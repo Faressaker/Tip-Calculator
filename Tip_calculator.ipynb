{
 "cells": [
  {
   "cell_type": "markdown",
   "metadata": {},
   "source": [
    "Project : Tip Calculator :)"
   ]
  },
  {
   "cell_type": "code",
   "execution_count": 9,
   "metadata": {},
   "outputs": [
    {
     "name": "stdout",
     "output_type": "stream",
     "text": [
      "Welcome to the tip calculator\n",
      "Each person should pay : $ 101.0\n"
     ]
    }
   ],
   "source": [
    "print(\"Welcome to the tip calculator\")\n",
    "\n",
    "bill = float(input(\"What was the total bill ? $\"))\n",
    "\n",
    "tip = int(input(\"How much tip would you like to give ? 10% ,12%, or 15% \"))\n",
    "\n",
    "people = int(input(\"How many people to spilt the bill ?\"))\n",
    "\n",
    "tip_as_percent = tip /100\n",
    "\n",
    "total_bill_amount = bill * tip_as_percent\n",
    "\n",
    "total_bill = bill + total_bill_amount\n",
    "\n",
    "bill_per_person = total_bill / people\n",
    "\n",
    "final_amount = round(bill_per_person, 2)\n",
    "\n",
    "print(\"Each person should pay : $\", final_amount) "
   ]
  }
 ],
 "metadata": {
  "kernelspec": {
   "display_name": "Python 3",
   "language": "python",
   "name": "python3"
  },
  "language_info": {
   "codemirror_mode": {
    "name": "ipython",
    "version": 3
   },
   "file_extension": ".py",
   "mimetype": "text/x-python",
   "name": "python",
   "nbconvert_exporter": "python",
   "pygments_lexer": "ipython3",
   "version": "3.11.7"
  }
 },
 "nbformat": 4,
 "nbformat_minor": 2
}
